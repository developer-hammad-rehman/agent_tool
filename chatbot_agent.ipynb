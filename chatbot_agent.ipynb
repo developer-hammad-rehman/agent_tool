{
 "cells": [
  {
   "cell_type": "code",
   "execution_count": 1,
   "metadata": {},
   "outputs": [],
   "source": [
    "!pip install -qU langchain langgraph langchain-google-genai python-dotenv"
   ]
  },
  {
   "cell_type": "code",
   "execution_count": 2,
   "metadata": {},
   "outputs": [
    {
     "data": {
      "text/plain": [
       "True"
      ]
     },
     "execution_count": 2,
     "metadata": {},
     "output_type": "execute_result"
    }
   ],
   "source": [
    "from dotenv import load_dotenv\n",
    "\n",
    "load_dotenv()"
   ]
  },
  {
   "cell_type": "code",
   "execution_count": 5,
   "metadata": {},
   "outputs": [],
   "source": [
    "from langchain_google_genai import ChatGoogleGenerativeAI \n",
    "from langgraph.graph import add_messages , END , START , StateGraph\n",
    "from typing import TypedDict , Annotated\n",
    "\n",
    "\n",
    "class MessageState(TypedDict):\n",
    "    messages : Annotated[list , add_messages]\n",
    "\n",
    "\n",
    "builder = StateGraph(MessageState)"
   ]
  },
  {
   "cell_type": "code",
   "execution_count": 10,
   "metadata": {},
   "outputs": [],
   "source": [
    "llm = ChatGoogleGenerativeAI(model='gemini-1.5-flash')\n",
    "\n",
    "def llm_message(state:MessageState):\n",
    "    return {\"messages\" : [llm.invoke(state[\"messages\"])]}"
   ]
  },
  {
   "cell_type": "code",
   "execution_count": 11,
   "metadata": {},
   "outputs": [
    {
     "data": {
      "text/plain": [
       "<langgraph.graph.state.StateGraph at 0x1a9c49a3fe0>"
      ]
     },
     "execution_count": 11,
     "metadata": {},
     "output_type": "execute_result"
    }
   ],
   "source": [
    "builder.add_node(\"llm\" , llm_message)"
   ]
  },
  {
   "cell_type": "code",
   "execution_count": 17,
   "metadata": {},
   "outputs": [
    {
     "data": {
      "text/plain": [
       "<langgraph.graph.state.StateGraph at 0x1a9c49a3fe0>"
      ]
     },
     "execution_count": 17,
     "metadata": {},
     "output_type": "execute_result"
    }
   ],
   "source": [
    "builder.add_edge(START , \"llm\")\n",
    "builder.add_edge(\"llm\" , END)"
   ]
  },
  {
   "cell_type": "code",
   "execution_count": 18,
   "metadata": {},
   "outputs": [],
   "source": [
    "graph = builder.compile()"
   ]
  },
  {
   "cell_type": "code",
   "execution_count": 19,
   "metadata": {},
   "outputs": [
    {
     "data": {
      "image/jpeg": "[encoded data removed]",
      "text/plain": [
       "<IPython.core.display.Image object>"
      ]
     },
     "metadata": {},
     "output_type": "display_data"
    }
   ],
   "source": [
    "from IPython.display import Image, display\n",
    "\n",
    "try:\n",
    "    display(Image(graph.get_graph().draw_mermaid_png()))\n",
    "except Exception:\n",
    "    # This requires some extra dependencies and is optional\n",
    "    pass"
   ]
  },
  {
   "cell_type": "code",
   "execution_count": 23,
   "metadata": {},
   "outputs": [
    {
     "name": "stdout",
     "output_type": "stream",
     "text": [
      "## What is AI?\n",
      "\n",
      "**AI, or Artificial Intelligence**, is the simulation of human intelligence processes by computers. These processes include:\n",
      "\n",
      "* **Learning:**  Acquiring information and rules from data to improve performance.\n",
      "* **Reasoning:**  Using logic and rules to draw conclusions and make decisions.\n",
      "* **Problem-solving:**  Finding solutions to complex problems.\n",
      "* **Perception:**  Interpreting sensory information like images, sounds, and text.\n",
      "* **Natural language processing:**  Understanding and generating human language.\n",
      "\n",
      "**Types of AI:**\n",
      "\n",
      "* **Narrow AI (Weak AI):**  Designed for specific tasks, like playing chess or recommending products. Most AI today falls into this category.\n",
      "* **General AI (Strong AI):**  Hypothetical AI with human-like intelligence, capable of performing any intellectual task a human can.\n",
      "* **Super AI:**  Hypothetical AI surpassing human intelligence in all aspects.\n",
      "\n",
      "**Applications of AI:**\n",
      "\n",
      "AI is used in a wide range of fields, including:\n",
      "\n",
      "* **Healthcare:**  Disease diagnosis, drug discovery, personalized medicine.\n",
      "* **Finance:**  Fraud detection, risk assessment, investment management.\n",
      "* **Transportation:**  Self-driving cars, traffic optimization.\n",
      "* **Manufacturing:**  Predictive maintenance, quality control.\n",
      "* **Retail:**  Personalized recommendations, customer service chatbots.\n",
      "* **Entertainment:**  Game development, music and art generation.\n",
      "\n",
      "**Benefits of AI:**\n",
      "\n",
      "* **Increased efficiency:**  Automation of tasks, optimization of processes.\n",
      "* **Improved accuracy:**  Reduced errors through data analysis and machine learning.\n",
      "* **Personalized experiences:**  Tailored products and services based on individual needs.\n",
      "* **New discoveries and innovations:**  Solving complex problems and accelerating scientific research.\n",
      "\n",
      "**Challenges of AI:**\n",
      "\n",
      "* **Job displacement:**  Automation of jobs previously performed by humans.\n",
      "* **Ethical concerns:**  Bias in algorithms, privacy breaches, misuse of AI for malicious purposes.\n",
      "* **Lack of transparency:**  Difficulty in understanding how AI makes decisions.\n",
      "* **Safety and control:**  Ensuring AI systems are reliable and safe.\n",
      "\n",
      "**AI is a rapidly evolving field with immense potential to transform our world.** Understanding AI and its implications is crucial for navigating the future.\n",
      "\n"
     ]
    }
   ],
   "source": [
    "result = graph.invoke({\"messages\" : [(\"human\" , \"What is AI\")]})\n",
    "\n",
    "print(result[\"messages\"][-1].content)"
   ]
  }
 ],
 "metadata": {
  "kernelspec": {
   "display_name": ".venv",
   "language": "python",
   "name": "python3"
  },
  "language_info": {
   "codemirror_mode": {
    "name": "ipython",
    "version": 3
   },
   "file_extension": ".py",
   "mimetype": "text/x-python",
   "name": "python",
   "nbconvert_exporter": "python",
   "pygments_lexer": "ipython3",
   "version": "3.12.2"
  }
 },
 "nbformat": 4,
 "nbformat_minor": 2
}
